{
 "cells": [
  {
   "cell_type": "markdown",
   "metadata": {},
   "source": [
    "First, we will begin by the imports:\n",
    "\n",
    "- numpy for mathematical calculations.\n",
    "- pandas for loading and manipulating our dataset.\n",
    "- Sklearn for training our model.\n",
    "- matplotlib.pyplot for visualizing our data and predictions.\n"
   ]
  },
  {
   "cell_type": "code",
   "execution_count": 34,
   "metadata": {},
   "outputs": [],
   "source": [
    "import numpy as np\n",
    "import pandas as pd\n",
    "from sklearn.impute import SimpleImputer\n",
    "import matplotlib.pyplot as plt\n",
    "from sklearn.model_selection import train_test_split\n",
    "from sklearn.linear_model import LinearRegression"
   ]
  },
  {
   "cell_type": "markdown",
   "metadata": {},
   "source": [
    "Loading our data file"
   ]
  },
  {
   "cell_type": "code",
   "execution_count": 14,
   "metadata": {},
   "outputs": [],
   "source": [
    "dataset = pd.read_csv('my_data.csv')"
   ]
  },
  {
   "cell_type": "markdown",
   "metadata": {},
   "source": [
    "Reading values from CSV file"
   ]
  },
  {
   "cell_type": "code",
   "execution_count": 30,
   "metadata": {},
   "outputs": [],
   "source": [
    "X = dataset.iloc[:, :-1].values\n",
    "Y = dataset.iloc[:, 1].values"
   ]
  },
  {
   "cell_type": "markdown",
   "metadata": {},
   "source": [
    "What if we have some missing data from our training data? let's do some preprocessing for the data to compensate the missing values (in our case there is no missing values, I just imported the imputer to show its usage purpose):"
   ]
  },
  {
   "cell_type": "code",
   "execution_count": 21,
   "metadata": {},
   "outputs": [],
   "source": [
    "imputer = SimpleImputer(missing_values = np.nan, strategy = 'mean')"
   ]
  },
  {
   "cell_type": "markdown",
   "metadata": {},
   "source": [
    "You have to split your data into training set (for the model to learn the relationship), and test_set (in order to evaluate your model)."
   ]
  },
  {
   "cell_type": "code",
   "execution_count": 45,
   "metadata": {},
   "outputs": [],
   "source": [
    "X_train, X_test, y_train, y_test = train_test_split(X, Y, test_size = 0.3, random_state = 0)"
   ]
  },
  {
   "cell_type": "code",
   "execution_count": 46,
   "metadata": {},
   "outputs": [
    {
     "data": {
      "text/plain": [
       "LinearRegression(copy_X=True, fit_intercept=True, n_jobs=None, normalize=False)"
      ]
     },
     "execution_count": 46,
     "metadata": {},
     "output_type": "execute_result"
    }
   ],
   "source": [
    "regressor = LinearRegression()\n",
    "regressor.fit(X_train, y_train)"
   ]
  },
  {
   "cell_type": "code",
   "execution_count": 47,
   "metadata": {},
   "outputs": [],
   "source": [
    "y_pred = regressor.predict(X_test)"
   ]
  },
  {
   "cell_type": "code",
   "execution_count": 48,
   "metadata": {},
   "outputs": [
    {
     "name": "stdout",
     "output_type": "stream",
     "text": [
      "[3.18345349 3.34739384 3.06903678 3.23980798 3.00243601 3.37130181\n",
      " 3.16808408 3.11685272 3.2141923  3.22273086 3.46010284 3.0861139\n",
      " 3.32177816 3.61208921 3.15954552 3.27225451 3.60355065 3.46522597\n",
      " 3.33373215 3.61379692 3.66332057 3.25005426 3.32177816 3.64795116\n",
      " 3.38496351 3.44985656]\n"
     ]
    }
   ],
   "source": [
    "print(y_pred)"
   ]
  },
  {
   "cell_type": "markdown",
   "metadata": {},
   "source": [
    "We could print the SAT mark VS. GPA prediction:"
   ]
  },
  {
   "cell_type": "code",
   "execution_count": 49,
   "metadata": {},
   "outputs": [
    {
     "name": "stdout",
     "output_type": "stream",
     "text": [
      "(array([1769], dtype=int64), 3.1834534879358793)\n",
      "(array([1865], dtype=int64), 3.3473938422288194)\n",
      "(array([1702], dtype=int64), 3.0690367823355986)\n",
      "(array([1802], dtype=int64), 3.2398079847240777)\n",
      "(array([1663], dtype=int64), 3.002436013404092)\n",
      "(array([1879], dtype=int64), 3.371301810563206)\n",
      "(array([1760], dtype=int64), 3.1680840797209164)\n",
      "(array([1730], dtype=int64), 3.1168527190043727)\n",
      "(array([1787], dtype=int64), 3.2141923043658056)\n",
      "(array([1792], dtype=int64), 3.2227308644852295)\n",
      "(array([1931], dtype=int64), 3.4601028358052153)\n",
      "(array([1712], dtype=int64), 3.0861139025744464)\n",
      "(array([1850], dtype=int64), 3.3217781618705473)\n",
      "(array([2020], dtype=int64), 3.6120892059309617)\n",
      "(array([1755], dtype=int64), 3.1595455196014925)\n",
      "(array([1821], dtype=int64), 3.2722545131778884)\n",
      "(array([2015], dtype=int64), 3.603550645811538)\n"
     ]
    }
   ],
   "source": [
    "for i in range (17):\n",
    "    a = (X_test[i], y_pred[i])\n",
    "    print(a)"
   ]
  },
  {
   "cell_type": "markdown",
   "metadata": {},
   "source": [
    "We could also plot the SAT mark VS. GPA prediction (X_train is used for the X values):"
   ]
  },
  {
   "cell_type": "code",
   "execution_count": 51,
   "metadata": {},
   "outputs": [
    {
     "data": {
      "image/png": "[encoded data removed]",
      "text/plain": [
       "<Figure size 432x288 with 1 Axes>"
      ]
     },
     "metadata": {
      "needs_background": "light"
     },
     "output_type": "display_data"
    }
   ],
   "source": [
    "plt.scatter(X_train, y_train, color = 'blue')\n",
    "plt.plot(X_train, regressor.predict(X_train), color = 'red')\n",
    "plt.title('SAT vs GPA (Training set)')\n",
    "plt.xlabel('SAT_Marks')\n",
    "plt.ylabel('GPA')\n",
    "plt.show()"
   ]
  },
  {
   "cell_type": "markdown",
   "metadata": {},
   "source": [
    "At the end, we have a simple linear regression model for prediction.\n",
    "The more the data & the more its generalisation, the more accurate your prediction will be.\n",
    "\n",
    "Thank you,"
   ]
  }
 ],
 "metadata": {
  "kernelspec": {
   "display_name": "Python 3",
   "language": "python",
   "name": "python3"
  },
  "language_info": {
   "codemirror_mode": {
    "name": "ipython",
    "version": 3
   },
   "file_extension": ".py",
   "mimetype": "text/x-python",
   "name": "python",
   "nbconvert_exporter": "python",
   "pygments_lexer": "ipython3",
   "version": "3.7.7"
  }
 },
 "nbformat": 4,
 "nbformat_minor": 4
}
